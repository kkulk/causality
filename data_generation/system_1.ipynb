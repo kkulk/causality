{
 "cells": [
  {
   "cell_type": "code",
   "execution_count": 1,
   "id": "8bbc56e2",
   "metadata": {},
   "outputs": [],
   "source": [
    "import numpy as np\n",
    "import pandas as pd\n",
    "import time\n",
    "import scipy as sp\n",
    "import itertools\n",
    "import matplotlib.pyplot as plt\n",
    "\n",
    "from itertools import chain, combinations, tee\n",
    "\n",
    "import sys\n",
    "sys.path.insert(1, '../utils')\n"
   ]
  },
  {
   "cell_type": "markdown",
   "id": "519889e7",
   "metadata": {},
   "source": [
    "# Generate Data:"
   ]
  },
  {
   "cell_type": "code",
   "execution_count": 2,
   "id": "14889716",
   "metadata": {},
   "outputs": [],
   "source": [
    "def make_Sigma(A):\n",
    "    return A.T @ A"
   ]
  },
  {
   "cell_type": "code",
   "execution_count": 4,
   "id": "e61f58dd",
   "metadata": {},
   "outputs": [],
   "source": [
    "m = 10\n",
    "N = 100\n",
    "T = 15\n",
    "\n",
    "Sigma_u = make_Sigma(np.random.randn(m, m) * 2/m * 1/2)\n",
    "Sigma_x = make_Sigma(np.random.randn(N-m, N-m) * 2/(N-m) * 1/10)\n",
    "Sigma_y = Sigma_x\n",
    "\n",
    "A_0 = np.random.randn(N-m, N-m) * 2/(N-m) * 1/2\n",
    "B_0 = np.random.randn(N-m, m)\n",
    "C_0 = np.identity(N-m)\n",
    "\n",
    "# # u_vec = np.random.rand(n_i, T)\n",
    "# u_vec = np.zeros((n_i, T))\n",
    "# x_0 = np.random.rand(n)\n",
    "# x_vec = np.zeros((n, T))\n",
    "# y_vec = np.zeros((n_o, T))\n",
    "\n",
    "\n",
    "u_vec = np.random.multivariate_normal(np.zeros(m), Sigma_u, T).T\n",
    "x_0 = np.random.multivariate_normal(np.zeros(N-m), Sigma_x)\n",
    "x_noise_vec = np.random.multivariate_normal(np.zeros(N-m), Sigma_x, T).T\n",
    "y_noise_vec = np.random.multivariate_normal(np.zeros(N-m), Sigma_y, T).T\n",
    "x_vec = np.zeros((N-m, T))\n",
    "y_vec = np.zeros((N-m, T))\n",
    "\n",
    "x_vec[:, 0] = x_0\n",
    "for t in range(T-1):\n",
    "    x_vec[:, t+1] = A_0 @ x_vec[:, t] + B_0 @ u_vec[:, t]\n",
    "    y_vec[:, t] = C_0 @ x_vec[:, t]\n",
    "y_vec[:, T-1] = C_0 @ x_vec[:, T-1]\n"
   ]
  },
  {
   "cell_type": "code",
   "execution_count": 5,
   "id": "e9afe2d9",
   "metadata": {},
   "outputs": [
    {
     "ename": "OSError",
     "evalue": "Cannot save file into a non-existent directory: '/Users/ksk/Desktop/Code/Causality_Time_Series/data'",
     "output_type": "error",
     "traceback": [
      "\u001b[0;31m---------------------------------------------------------------------------\u001b[0m",
      "\u001b[0;31mOSError\u001b[0m                                   Traceback (most recent call last)",
      "Cell \u001b[0;32mIn[5], line 15\u001b[0m\n\u001b[1;32m     12\u001b[0m B_0_pd \u001b[38;5;241m=\u001b[39m pd\u001b[38;5;241m.\u001b[39mDataFrame(B_0)\n\u001b[1;32m     13\u001b[0m C_0_pd \u001b[38;5;241m=\u001b[39m pd\u001b[38;5;241m.\u001b[39mDataFrame(C_0)\n\u001b[0;32m---> 15\u001b[0m writer \u001b[38;5;241m=\u001b[39m pd\u001b[38;5;241m.\u001b[39mExcelWriter(path_file, engine\u001b[38;5;241m=\u001b[39m\u001b[38;5;124m'\u001b[39m\u001b[38;5;124mopenpyxl\u001b[39m\u001b[38;5;124m'\u001b[39m)\n\u001b[1;32m     17\u001b[0m x_vec_pd\u001b[38;5;241m.\u001b[39mto_excel(writer, sheet_name\u001b[38;5;241m=\u001b[39m\u001b[38;5;124m'\u001b[39m\u001b[38;5;124mx\u001b[39m\u001b[38;5;124m'\u001b[39m, index\u001b[38;5;241m=\u001b[39m\u001b[38;5;28;01mFalse\u001b[39;00m)\n\u001b[1;32m     18\u001b[0m u_vec_pd\u001b[38;5;241m.\u001b[39mto_excel(writer, sheet_name\u001b[38;5;241m=\u001b[39m\u001b[38;5;124m'\u001b[39m\u001b[38;5;124mu\u001b[39m\u001b[38;5;124m'\u001b[39m, index\u001b[38;5;241m=\u001b[39m\u001b[38;5;28;01mFalse\u001b[39;00m)\n",
      "File \u001b[0;32m/opt/anaconda3/lib/python3.11/site-packages/pandas/io/excel/_openpyxl.py:60\u001b[0m, in \u001b[0;36mOpenpyxlWriter.__init__\u001b[0;34m(self, path, engine, date_format, datetime_format, mode, storage_options, if_sheet_exists, engine_kwargs, **kwargs)\u001b[0m\n\u001b[1;32m     56\u001b[0m \u001b[38;5;28;01mfrom\u001b[39;00m \u001b[38;5;21;01mopenpyxl\u001b[39;00m\u001b[38;5;21;01m.\u001b[39;00m\u001b[38;5;21;01mworkbook\u001b[39;00m \u001b[38;5;28;01mimport\u001b[39;00m Workbook\n\u001b[1;32m     58\u001b[0m engine_kwargs \u001b[38;5;241m=\u001b[39m combine_kwargs(engine_kwargs, kwargs)\n\u001b[0;32m---> 60\u001b[0m \u001b[38;5;28msuper\u001b[39m()\u001b[38;5;241m.\u001b[39m\u001b[38;5;21m__init__\u001b[39m(\n\u001b[1;32m     61\u001b[0m     path,\n\u001b[1;32m     62\u001b[0m     mode\u001b[38;5;241m=\u001b[39mmode,\n\u001b[1;32m     63\u001b[0m     storage_options\u001b[38;5;241m=\u001b[39mstorage_options,\n\u001b[1;32m     64\u001b[0m     if_sheet_exists\u001b[38;5;241m=\u001b[39mif_sheet_exists,\n\u001b[1;32m     65\u001b[0m     engine_kwargs\u001b[38;5;241m=\u001b[39mengine_kwargs,\n\u001b[1;32m     66\u001b[0m )\n\u001b[1;32m     68\u001b[0m \u001b[38;5;66;03m# ExcelWriter replaced \"a\" by \"r+\" to allow us to first read the excel file from\u001b[39;00m\n\u001b[1;32m     69\u001b[0m \u001b[38;5;66;03m# the file and later write to it\u001b[39;00m\n\u001b[1;32m     70\u001b[0m \u001b[38;5;28;01mif\u001b[39;00m \u001b[38;5;124m\"\u001b[39m\u001b[38;5;124mr+\u001b[39m\u001b[38;5;124m\"\u001b[39m \u001b[38;5;129;01min\u001b[39;00m \u001b[38;5;28mself\u001b[39m\u001b[38;5;241m.\u001b[39m_mode:  \u001b[38;5;66;03m# Load from existing workbook\u001b[39;00m\n",
      "File \u001b[0;32m/opt/anaconda3/lib/python3.11/site-packages/pandas/io/excel/_base.py:1313\u001b[0m, in \u001b[0;36mExcelWriter.__init__\u001b[0;34m(self, path, engine, date_format, datetime_format, mode, storage_options, if_sheet_exists, engine_kwargs, **kwargs)\u001b[0m\n\u001b[1;32m   1309\u001b[0m \u001b[38;5;28mself\u001b[39m\u001b[38;5;241m.\u001b[39m_handles \u001b[38;5;241m=\u001b[39m IOHandles(\n\u001b[1;32m   1310\u001b[0m     cast(IO[\u001b[38;5;28mbytes\u001b[39m], path), compression\u001b[38;5;241m=\u001b[39m{\u001b[38;5;124m\"\u001b[39m\u001b[38;5;124mcompression\u001b[39m\u001b[38;5;124m\"\u001b[39m: \u001b[38;5;28;01mNone\u001b[39;00m}\n\u001b[1;32m   1311\u001b[0m )\n\u001b[1;32m   1312\u001b[0m \u001b[38;5;28;01mif\u001b[39;00m \u001b[38;5;129;01mnot\u001b[39;00m \u001b[38;5;28misinstance\u001b[39m(path, ExcelWriter):\n\u001b[0;32m-> 1313\u001b[0m     \u001b[38;5;28mself\u001b[39m\u001b[38;5;241m.\u001b[39m_handles \u001b[38;5;241m=\u001b[39m get_handle(\n\u001b[1;32m   1314\u001b[0m         path, mode, storage_options\u001b[38;5;241m=\u001b[39mstorage_options, is_text\u001b[38;5;241m=\u001b[39m\u001b[38;5;28;01mFalse\u001b[39;00m\n\u001b[1;32m   1315\u001b[0m     )\n\u001b[1;32m   1316\u001b[0m \u001b[38;5;28mself\u001b[39m\u001b[38;5;241m.\u001b[39m_cur_sheet \u001b[38;5;241m=\u001b[39m \u001b[38;5;28;01mNone\u001b[39;00m\n\u001b[1;32m   1318\u001b[0m \u001b[38;5;28;01mif\u001b[39;00m date_format \u001b[38;5;129;01mis\u001b[39;00m \u001b[38;5;28;01mNone\u001b[39;00m:\n",
      "File \u001b[0;32m/opt/anaconda3/lib/python3.11/site-packages/pandas/io/common.py:734\u001b[0m, in \u001b[0;36mget_handle\u001b[0;34m(path_or_buf, mode, encoding, compression, memory_map, is_text, errors, storage_options)\u001b[0m\n\u001b[1;32m    732\u001b[0m \u001b[38;5;66;03m# Only for write methods\u001b[39;00m\n\u001b[1;32m    733\u001b[0m \u001b[38;5;28;01mif\u001b[39;00m \u001b[38;5;124m\"\u001b[39m\u001b[38;5;124mr\u001b[39m\u001b[38;5;124m\"\u001b[39m \u001b[38;5;129;01mnot\u001b[39;00m \u001b[38;5;129;01min\u001b[39;00m mode \u001b[38;5;129;01mand\u001b[39;00m is_path:\n\u001b[0;32m--> 734\u001b[0m     check_parent_directory(\u001b[38;5;28mstr\u001b[39m(handle))\n\u001b[1;32m    736\u001b[0m \u001b[38;5;28;01mif\u001b[39;00m compression:\n\u001b[1;32m    737\u001b[0m     \u001b[38;5;28;01mif\u001b[39;00m compression \u001b[38;5;241m!=\u001b[39m \u001b[38;5;124m\"\u001b[39m\u001b[38;5;124mzstd\u001b[39m\u001b[38;5;124m\"\u001b[39m:\n\u001b[1;32m    738\u001b[0m         \u001b[38;5;66;03m# compression libraries do not like an explicit text-mode\u001b[39;00m\n",
      "File \u001b[0;32m/opt/anaconda3/lib/python3.11/site-packages/pandas/io/common.py:597\u001b[0m, in \u001b[0;36mcheck_parent_directory\u001b[0;34m(path)\u001b[0m\n\u001b[1;32m    595\u001b[0m parent \u001b[38;5;241m=\u001b[39m Path(path)\u001b[38;5;241m.\u001b[39mparent\n\u001b[1;32m    596\u001b[0m \u001b[38;5;28;01mif\u001b[39;00m \u001b[38;5;129;01mnot\u001b[39;00m parent\u001b[38;5;241m.\u001b[39mis_dir():\n\u001b[0;32m--> 597\u001b[0m     \u001b[38;5;28;01mraise\u001b[39;00m \u001b[38;5;167;01mOSError\u001b[39;00m(\u001b[38;5;124mrf\u001b[39m\u001b[38;5;124m\"\u001b[39m\u001b[38;5;124mCannot save file into a non-existent directory: \u001b[39m\u001b[38;5;124m'\u001b[39m\u001b[38;5;132;01m{\u001b[39;00mparent\u001b[38;5;132;01m}\u001b[39;00m\u001b[38;5;124m'\u001b[39m\u001b[38;5;124m\"\u001b[39m)\n",
      "\u001b[0;31mOSError\u001b[0m: Cannot save file into a non-existent directory: '/Users/ksk/Desktop/Code/Causality_Time_Series/data'"
     ]
    }
   ],
   "source": [
    "path_directory = \"/Users/ksk/Desktop/Code/Causality_Time_Series/\"\n",
    "path_file = path_directory + \"data/system_1.xlsx\"\n",
    "\n",
    "# ego_pose_data = pd.read_excel(path_file, sheet_name='Ego Pose', engine='openpyxl')\n",
    "# static_features_data = pd.read_excel(path_file, sheet_name='Static Features' , engine='openpyxl')\n",
    "\n",
    "\n",
    "x_vec_pd = pd.DataFrame(x_vec)\n",
    "u_vec_pd = pd.DataFrame(u_vec)\n",
    "y_vec_pd = pd.DataFrame(y_vec)\n",
    "A_0_pd = pd.DataFrame(A_0)\n",
    "B_0_pd = pd.DataFrame(B_0)\n",
    "C_0_pd = pd.DataFrame(C_0)\n",
    "\n",
    "writer = pd.ExcelWriter(path_file, engine='openpyxl')\n",
    "\n",
    "x_vec_pd.to_excel(writer, sheet_name='x', index=False)\n",
    "u_vec_pd.to_excel(writer, sheet_name='u', index=False)\n",
    "y_vec_pd.to_excel(writer, sheet_name='y', index=False)\n",
    "A_0_pd.to_excel(writer, sheet_name='A_0', index=False)\n",
    "B_0_pd.to_excel(writer, sheet_name='B_0', index=False)\n",
    "C_0_pd.to_excel(writer, sheet_name='C_0', index=False)\n",
    "\n",
    "writer.save()\n",
    "\n",
    "# INCOMPLETE: save the remaining data as well.\n"
   ]
  },
  {
   "cell_type": "code",
   "execution_count": null,
   "id": "1fb5e13e",
   "metadata": {},
   "outputs": [],
   "source": []
  },
  {
   "cell_type": "code",
   "execution_count": 33,
   "id": "fa04d984",
   "metadata": {},
   "outputs": [
    {
     "data": {
      "text/plain": [
       "3.492428287593663e-06"
      ]
     },
     "execution_count": 33,
     "metadata": {},
     "output_type": "execute_result"
    }
   ],
   "source": [
    "min(abs(x_vec.flatten()))"
   ]
  },
  {
   "cell_type": "code",
   "execution_count": null,
   "id": "5975d093",
   "metadata": {},
   "outputs": [],
   "source": []
  },
  {
   "cell_type": "markdown",
   "id": "5cc84379",
   "metadata": {},
   "source": [
    "# Load Data (Test):"
   ]
  },
  {
   "cell_type": "code",
   "execution_count": null,
   "id": "ae4adb18",
   "metadata": {},
   "outputs": [],
   "source": []
  }
 ],
 "metadata": {
  "kernelspec": {
   "display_name": "Python 3 (ipykernel)",
   "language": "python",
   "name": "python3"
  },
  "language_info": {
   "codemirror_mode": {
    "name": "ipython",
    "version": 3
   },
   "file_extension": ".py",
   "mimetype": "text/x-python",
   "name": "python",
   "nbconvert_exporter": "python",
   "pygments_lexer": "ipython3",
   "version": "3.11.7"
  }
 },
 "nbformat": 4,
 "nbformat_minor": 5
}
