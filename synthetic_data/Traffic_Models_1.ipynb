{
 "cells": [
  {
   "cell_type": "code",
   "execution_count": 12,
   "id": "58a03c41",
   "metadata": {},
   "outputs": [],
   "source": [
    "import numpy as np\n",
    "from numpy.polynomial import Polynomial\n",
    "import matplotlib.pyplot as plt\n",
    "import causallearn\n",
    "\n",
    "from causallearn.utils.cit import *\n",
    "from causallearn.graph.GraphClass import CausalGraph\n",
    "import pandas as pd\n",
    "from itertools import combinations, permutations\n",
    "from numpy import ndarray\n",
    "from typing import Dict, List, Tuple\n",
    "from causallearn.utils.cit import fisherz\n",
    "import random\n",
    "import itertools\n",
    "\n",
    "import time\n",
    "\n",
    "import scipy as sp\n",
    "from scipy.stats import beta\n",
    "\n",
    "from statsmodels.distributions.empirical_distribution import ECDF\n"
   ]
  },
  {
   "cell_type": "markdown",
   "id": "5420da15",
   "metadata": {},
   "source": [
    "# Traffic Model:"
   ]
  },
  {
   "cell_type": "markdown",
   "id": "d29c1236",
   "metadata": {},
   "source": [
    "## Null hypothesis $H_0$: Accidents happen independently of traffic load"
   ]
  },
  {
   "cell_type": "code",
   "execution_count": 13,
   "id": "5fed0e2c",
   "metadata": {},
   "outputs": [],
   "source": [
    "# # Number of days:\n",
    "# N = 365 * 10\n",
    "# # Number of discretized steps:\n",
    "# # If each timestep represents 10 mins, then T = 108 would represent 18 hours.\n",
    "# T = 108\n",
    "\n",
    "# p_acc = 0.001\n",
    "# x_eq = 100\n",
    "# mu = 0.2\n",
    "# mu_acc = 0.02\n",
    "# time_duration_acc = 2\n",
    "# noise_range = 10\n",
    "# ctrl = mu * x_eq\n",
    "\n",
    "# T_acc_vec = np.random.geometric(p = p_acc, size = N)\n",
    "# noise_array = np.random.rand(N, T) * 2 * noise_range - noise_range\n",
    "# x_array_H0 = np.zeros((N, T))\n",
    "# x_0 = np.random.rand(N) * 2 * noise_range - noise_range + x_eq\n",
    "\n",
    "# x_array_H0[:, 0] = x_0\n",
    "# for t in range(T-1):\n",
    "#     x_array_H0[:, t+1] = (1-mu) * x_array_H0[:, t] + ctrl + noise_array[:, t]\n",
    "\n",
    "# # Changing load due to dynamics:\n",
    "# # for i in range(N):\n",
    "# #     if T_acc_vec[i] < T:\n",
    "# #         for k in range(T_acc_vec[i], min(T, T_acc_vec[i] + time_duration_acc)):\n"
   ]
  },
  {
   "cell_type": "code",
   "execution_count": 14,
   "id": "e9c2fad9",
   "metadata": {},
   "outputs": [],
   "source": [
    "# Number of days:\n",
    "N = 365 * 20\n",
    "# Number of discretized steps:\n",
    "# If each timestep represents 10 mins, then T = 108 would represent 18 hours.\n",
    "T = 108"
   ]
  },
  {
   "cell_type": "code",
   "execution_count": 15,
   "id": "208e461c",
   "metadata": {},
   "outputs": [
    {
     "name": "stdout",
     "output_type": "stream",
     "text": [
      "Time:  0.3607611656188965\n"
     ]
    }
   ],
   "source": [
    "start_time = time.time()\n",
    "\n",
    "x_eq = 100\n",
    "mu = 0.3\n",
    "mu_acc = 0.2\n",
    "time_duration_acc = 2\n",
    "noise_range = 10\n",
    "ctrl = mu * x_eq\n",
    "\n",
    "noise_array = np.random.rand(N, T) * 2 * noise_range - noise_range\n",
    "x_array_H0 = np.zeros((N, T))\n",
    "# x_0 = np.random.rand(N) * 2 * noise_range - noise_range + 0.5 * x_eq\n",
    "x_0 = np.random.rand(N) * 2 * noise_range - noise_range + 1 * x_eq\n",
    "\n",
    "p_acc = 0.06\n",
    "acc_vec = np.random.binomial(1, p = p_acc, size = (N, T))\n",
    "acc_vec_high_load = np.random.binomial(1, p = p_acc_high_load, size = (N, T))\n",
    "acc_realized_H0 = np.zeros((N, T))\n",
    "\n",
    "high_load_threshold_ratio = 0.9\n",
    "high_load_threshold = x_eq + high_load_threshold_ratio * noise_range\n",
    "counter = 0\n",
    "\n",
    "x_array_H0[:, 0] = x_0\n",
    "for i in range(N):\n",
    "    for t in range(T-1):\n",
    "        if t == 0:\n",
    "            acc_realized_H0[i, t] = 0 \n",
    "            x_array_H0[i, t+1] = (1 - mu) * x_array_H0[i, t] + ctrl + noise_array[i, t]\n",
    "            counter = 0\n",
    "        elif counter >= 1 and counter < time_duration_acc:\n",
    "            acc_realized_H0[i, t] = 1\n",
    "            x_array_H0[i, t+1] = (1 - mu_acc) * x_array_H0[i, t] + ctrl + noise_array[i, t]\n",
    "            counter += 1\n",
    "        elif acc_vec[i, t] == 1:\n",
    "            acc_realized_H0[i, t] = 1\n",
    "            x_array_H0[i, t+1] = (1 - mu_acc) * x_array_H0[i, t] + ctrl + noise_array[i, t]\n",
    "            counter = 1\n",
    "        else:\n",
    "            acc_realized_H0[i, t] = 0\n",
    "            x_array_H0[i, t+1] = (1 - mu) * x_array_H0[i, t] + ctrl + noise_array[i, t]\n",
    "            counter = 0\n",
    "\n",
    "# Changing load due to dynamics:\n",
    "# for i in range(N):\n",
    "#     if T_acc_vec[i] < T:\n",
    "#         for k in range(T_acc_vec[i], min(T, T_acc_vec[i] + time_duration_acc)):\n",
    "\n",
    "end_time = time.time()\n",
    "\n",
    "print(\"Time: \", end_time - start_time)\n",
    "\n"
   ]
  },
  {
   "cell_type": "code",
   "execution_count": null,
   "id": "b82a371c",
   "metadata": {},
   "outputs": [],
   "source": []
  },
  {
   "cell_type": "code",
   "execution_count": null,
   "id": "65d11a20",
   "metadata": {},
   "outputs": [],
   "source": []
  },
  {
   "cell_type": "markdown",
   "id": "d48621b8",
   "metadata": {},
   "source": [
    "## Alternative hypothesis $H_1$: Accidents are made more likely by high traffic load"
   ]
  },
  {
   "cell_type": "code",
   "execution_count": 16,
   "id": "bbb16acc",
   "metadata": {},
   "outputs": [
    {
     "name": "stdout",
     "output_type": "stream",
     "text": [
      "Time:  0.4629957675933838\n"
     ]
    }
   ],
   "source": [
    "start_time = time.time()\n",
    "\n",
    "\n",
    "x_eq = 100\n",
    "mu = 0.3\n",
    "mu_acc = 0.2\n",
    "time_duration_acc = 2\n",
    "noise_range = 10\n",
    "ctrl = mu * x_eq\n",
    "\n",
    "noise_array = np.random.rand(N, T) * 2 * noise_range - noise_range\n",
    "x_array_H1 = np.zeros((N, T))\n",
    "# x_0 = np.random.rand(N) * 2 * noise_range - noise_range + 0.5 * x_eq\n",
    "x_0 = np.random.rand(N) * 2 * noise_range - noise_range + 1 * x_eq\n",
    "\n",
    "p_acc = 0.03\n",
    "p_acc_high_load = 0.3\n",
    "acc_vec = np.random.binomial(1, p = p_acc, size = (N, T))\n",
    "acc_vec_high_load = np.random.binomial(1, p = p_acc_high_load, size = (N, T))\n",
    "acc_realized_H1 = np.zeros((N, T))\n",
    "\n",
    "high_load_threshold_ratio = 0.9\n",
    "high_load_threshold = x_eq + high_load_threshold_ratio * noise_range\n",
    "counter = 0\n",
    "\n",
    "x_array_H1[:, 0] = x_0\n",
    "for i in range(N):\n",
    "    for t in range(T-1):\n",
    "        if t == 0:\n",
    "            acc_realized_H1[i, t] = 0 \n",
    "            x_array_H1[i, t+1] = (1 - mu) * x_array_H1[i, t] + ctrl + noise_array[i, t]\n",
    "            counter = 0\n",
    "        elif counter >= 1 and counter < time_duration_acc:\n",
    "#         if counter >= 1 and counter < time_duration_acc:\n",
    "            acc_realized_H1[i, t] = 1\n",
    "            x_array_H1[i, t+1] = (1 - mu_acc) * x_array_H1[i, t] + ctrl + noise_array[i, t]\n",
    "            counter += 1\n",
    "        elif x_array_H1[i, t] <= high_load_threshold and acc_vec[i, t] == 1:\n",
    "            acc_realized_H1[i, t] = 1\n",
    "            x_array_H1[i, t+1] = (1 - mu_acc) * x_array_H1[i, t] + ctrl + noise_array[i, t]\n",
    "            counter = 1\n",
    "        elif x_array_H1[i, t] > high_load_threshold and acc_vec_high_load[i, t] == 1:\n",
    "            acc_realized_H1[i, t] = 1\n",
    "            x_array_H1[i, t+1] = (1 - mu_acc) * x_array_H1[i, t] + ctrl + noise_array[i, t]\n",
    "            counter = 1\n",
    "        else:\n",
    "            acc_realized_H1[i, t] = 0\n",
    "            x_array_H1[i, t+1] = (1 - mu) * x_array_H1[i, t] + ctrl + noise_array[i, t]\n",
    "            counter = 0\n",
    "\n",
    "# Changing load due to dynamics:\n",
    "# for i in range(N):\n",
    "#     if T_acc_vec[i] < T:\n",
    "#         for k in range(T_acc_vec[i], min(T, T_acc_vec[i] + time_duration_acc)):\n",
    "\n",
    "\n",
    "end_time = time.time()\n",
    "\n",
    "print(\"Time: \", end_time - start_time)\n",
    "\n"
   ]
  },
  {
   "cell_type": "code",
   "execution_count": 17,
   "id": "4cceaae6",
   "metadata": {},
   "outputs": [
    {
     "data": {
      "text/plain": [
       "(7300, 108)"
      ]
     },
     "execution_count": 17,
     "metadata": {},
     "output_type": "execute_result"
    }
   ],
   "source": [
    "x_array_H1.shape"
   ]
  },
  {
   "cell_type": "code",
   "execution_count": 18,
   "id": "bceedb2c",
   "metadata": {},
   "outputs": [],
   "source": [
    "## Re-sort the data:\n",
    "\n",
    "# x_array.shape\n",
    "# acc_realized.shape\n",
    "\n",
    "def generate_data_processed_dict(x_array, acc_realized):\n",
    "    \n",
    "    assert x_array.shape == acc_realized.shape\n",
    "    N = x_array.shape[0]\n",
    "    T = x_array.shape[1]\n",
    "    \n",
    "    first_times_of_rare_event = np.zeros(N)\n",
    "    for i in range(N):\n",
    "    #     print(acc_realized[i, :].shape)\n",
    "    #     print(np.zeros(T).shape)\n",
    "        if (acc_realized[i, :] == np.zeros(T)).all():\n",
    "            first_times_of_rare_event[i] = -1\n",
    "        else:\n",
    "    #         print(min([t for t in range(T) if acc_realized[i, t] == 1]))\n",
    "            first_times_of_rare_event[i] = min([t for t in range(T) if acc_realized[i, t] == 1])\n",
    "#             print(\"i:\", i)\n",
    "#             print(\"first_times_of_rare_event[i]:\", first_times_of_rare_event[i])\n",
    "\n",
    "    first_times_of_rare_event_as_set = set(list(first_times_of_rare_event))\n",
    "    first_times_of_rare_event_as_set.remove(-1)\n",
    "    first_times_of_rare_event_as_list = list(first_times_of_rare_event_as_set)\n",
    "\n",
    "    # for first_time in first_times_of_rare_event_as_set:\n",
    "\n",
    "    # first_times_of_rare_event_as_set\n",
    "\n",
    "    x_processed_dict_XT = {}\n",
    "    x_processed_dict_Xgen = {}\n",
    "    first_times_dict = {}\n",
    "    \n",
    "    for time in first_times_of_rare_event_as_list:\n",
    "    #     print(time\n",
    "        x_processed_dict_XT[time] = []\n",
    "        x_processed_dict_Xgen[time] = []\n",
    "        first_times_dict[time] = []\n",
    "        for i in range(N):\n",
    "            if first_times_of_rare_event[i] >= time:\n",
    "                x_processed_dict_Xgen[time].append(x_array[i, int(time)-1])\n",
    "            if first_times_of_rare_event[i] == time:\n",
    "                first_times_dict[time].append(i)\n",
    "                x_processed_dict_XT[time].append(x_array[i, int(time)-1])\n",
    "    \n",
    "    x_values_jumps_XT = list(itertools.chain(*list(x_processed_dict_XT.values())))\n",
    "    assert len(x_values_jumps_XT) <= N\n",
    "    \n",
    "    return x_processed_dict_XT, x_processed_dict_Xgen, first_times_dict\n",
    "\n",
    "def generate_cdf_Xgen(x_processed_dict_Xgen, first_times_dict, N, T,\\\n",
    "                      x_lower_bound = 50.0, x_upper_bound = 200.0, x_values_length = 5000):\n",
    "    assert list(x_processed_dict_Xgen.keys()) == list(first_times_dict.keys())\n",
    "    \n",
    "    x_values_jumps_Xgen = sorted(list(itertools.chain(*list(x_processed_dict_Xgen.values()))))\n",
    "    print(\"len(x_values_jumps_Xgen):\", len(x_values_jumps_Xgen))\n",
    "    print(\"max(x_values_jumps_Xgen):\", max(x_values_jumps_Xgen))\n",
    "#     return\n",
    "    \n",
    "#     cdf_value_at_jumps_Xgen = []\n",
    "    x_cdf_dict_Xgen = {}\n",
    "    \n",
    "#     for count_1, x_value in enumerate(x_values_jumps_Xgen):\n",
    "    for count_1, x_value in enumerate(np.linspace(x_lower_bound, x_upper_bound, x_values_length)):\n",
    "#         if count_1 % 100 == 0:\n",
    "#             print(count_1)\n",
    "        cdf_value_temp = 0\n",
    "        for count_2, time in enumerate(first_times_dict.keys()):\n",
    "#             print(count_2)\n",
    "            cdf_value_temp += len([x_val for x_val in x_processed_dict_Xgen[time] if x_val <= x_value])/len(x_processed_dict_Xgen[time]) \\\n",
    "                                * len(first_times_dict[time])/N\n",
    "#         cdf_value_at_jumps_Xgen.append(cdf_value_temp)\n",
    "        x_cdf_dict_Xgen[x_value] = cdf_value_temp\n",
    "    \n",
    "    # INCOMPLETE; make dictionary.\n",
    "    \n",
    "    return x_values_jumps_Xgen, x_cdf_dict_Xgen\n",
    "\n",
    "\n",
    "def generate_cdf_XT(x_processed_dict_XT, first_times_dict, N, T):\n",
    "    assert list(x_processed_dict_XT.keys()) == list(first_times_dict.keys())\n",
    "    \n",
    "    x_values_jumps_XT = sorted(list(itertools.chain(*list(x_processed_dict_XT.values()))))\n",
    "    x_cdf_dict_XT = {}\n",
    "    \n",
    "    # Sort x_values_jumps_XT\n",
    "    assert len(x_values_jumps_XT) <= N\n",
    "    \n",
    "    print(\"len(x_values_jumps_XT):\", len(x_values_jumps_XT))\n",
    "    print(\"max(x_values_jumps_XT):\", max(x_values_jumps_XT))\n",
    "        \n",
    "    cdf_value_at_jumps_XT = []\n",
    "    for x_value in x_values_jumps_XT:\n",
    "        cdf_value_temp = len([x_val for x_val in x_values_jumps_XT if x_val <= x_value]) \\\n",
    "                                     / len(x_values_jumps_XT)\n",
    "        cdf_value_at_jumps_XT.append(cdf_value_temp)\n",
    "        x_cdf_dict_XT[x_value] = cdf_value_temp\n",
    "        \n",
    "    cdf_evenly_spaced = np.linspace(1/len(cdf_value_at_jumps_XT), 1, len(cdf_value_at_jumps_XT))\n",
    "        \n",
    "#     print(\"cdf_value_at_jumps_XT:\", cdf_value_at_jumps_XT[0:10])\n",
    "#     print(\"cdf_evenly_spaced:\", cdf_evenly_spaced[0:10])\n",
    "#     print(\"1/len(cdf_value_at_jumps_XT):\", 1/len(cdf_value_at_jumps_XT))\n",
    "#     print(\"cdf_value_at_jumps_XT - cdf_evenly_spaced:\", cdf_value_at_jumps_XT - cdf_evenly_spaced)\n",
    "\n",
    "\n",
    "    # Assertion: Sanity check on cdf_value_at_jumps_XT\n",
    "    assert np.linalg.norm(np.array(cdf_value_at_jumps_XT) - np.array(cdf_evenly_spaced)) <= 0.0001\n",
    "    \n",
    "    # INCOMPLETE; make dictionary.\n",
    "    return x_values_jumps_XT, x_cdf_dict_XT\n",
    "\n",
    "def cdf_value(x, x_cdf_dict):\n",
    "    key_list = [x_val for x_val in x_cdf_dict.keys() if x_val <= x]\n",
    "    if key_list != []:\n",
    "        dict_key = max(key_list)\n",
    "    else:\n",
    "        dict_key = min(x_cdf_dict.keys())\n",
    "    return x_cdf_dict[dict_key]\n",
    "\n",
    "def compare_CDFs(x_cdf_dict_1, x_cdf_dict_2, x_lower_bound = 50.0, x_upper_bound = 200.0, x_values_length = 2000):\n",
    "    error_list = []\n",
    "    for x_value in np.linspace(x_lower_bound, x_upper_bound, x_values_length+1):\n",
    "        error = abs(cdf_value(x_value, x_cdf_dict_1) - cdf_value(x_value, x_cdf_dict_2))\n",
    "        error_list.append(error)\n",
    "    \n",
    "    return max(error_list)\n",
    "\n"
   ]
  },
  {
   "cell_type": "code",
   "execution_count": 19,
   "id": "a513b037",
   "metadata": {},
   "outputs": [],
   "source": [
    "# np.linspace(0, 1, 5)"
   ]
  },
  {
   "cell_type": "code",
   "execution_count": null,
   "id": "183c9d95",
   "metadata": {},
   "outputs": [],
   "source": []
  },
  {
   "cell_type": "code",
   "execution_count": null,
   "id": "63e639db",
   "metadata": {
    "scrolled": true
   },
   "outputs": [],
   "source": []
  },
  {
   "cell_type": "code",
   "execution_count": 20,
   "id": "3198a5be",
   "metadata": {},
   "outputs": [
    {
     "name": "stdout",
     "output_type": "stream",
     "text": [
      "len(x_values_jumps_XT): 7291\n",
      "max(x_values_jumps_XT): 126.9680835926538\n",
      "\n",
      "len(x_values_jumps_Xgen): 120626\n",
      "max(x_values_jumps_Xgen): 126.9680835926538\n",
      "\n",
      "len(x_values_jumps_XT): 7294\n",
      "max(x_values_jumps_XT): 124.30414458608843\n",
      "\n",
      "len(x_values_jumps_Xgen): 117583\n",
      "max(x_values_jumps_Xgen): 124.30414458608843\n",
      "\n",
      "Time: 17.115927934646606\n"
     ]
    }
   ],
   "source": [
    "begin_time = time.time()\n",
    "\n",
    "x_processed_dict_H0_XT, x_processed_dict_H0_Xgen, first_times_dict_H0 = generate_data_processed_dict(x_array_H0, acc_realized_H0)\n",
    "# print(\"x_processed_dict_H0_XT.values():\", x_processed_dict_H0_XT.values())\n",
    "# print(len(list(itertools.chain(*list(first_times_dict_H0.values()))))/N)\n",
    "\n",
    "x_processed_dict_H1_XT, x_processed_dict_H1_Xgen, first_times_dict_H1 = generate_data_processed_dict(x_array_H1, acc_realized_H1)\n",
    "# print(len(list(itertools.chain(*list(first_times_dict_H1.values()))))/N)\n",
    "\n",
    "x_values_jumps_H0_XT, x_cdf_dict_H0_XT = generate_cdf_XT(x_processed_dict_H0_XT, first_times_dict_H0, N, T)\n",
    "print()\n",
    "x_values_jumps_H0_Xgen, x_cdf_dict_H0_Xgen = generate_cdf_Xgen(x_processed_dict_H0_Xgen, first_times_dict_H0, N, T)\n",
    "print()\n",
    "\n",
    "x_values_jumps_H1_XT, x_cdf_dict_H1_XT = generate_cdf_XT(x_processed_dict_H1_XT, first_times_dict_H1, N, T)\n",
    "print()\n",
    "x_values_jumps_H1_Xgen, x_cdf_dict_H1_Xgen = generate_cdf_Xgen(x_processed_dict_H1_Xgen, first_times_dict_H1, N, T)\n",
    "print()\n",
    "\n",
    "end_time = time.time()\n",
    "print(\"Time:\", end_time - begin_time)\n",
    "\n",
    "\n"
   ]
  },
  {
   "cell_type": "code",
   "execution_count": 24,
   "id": "1b6c1f5c",
   "metadata": {},
   "outputs": [
    {
     "name": "stdout",
     "output_type": "stream",
     "text": [
      "0.0073980536408835285\n",
      "0.2748381505352519\n"
     ]
    }
   ],
   "source": [
    "# Compare CDFs for both the H0 and H1 cases.\n",
    "x_lower_bound = 50\n",
    "x_upper_bound = 150\n",
    "x_values_length = 1000\n",
    "plot_x_range = np.linspace(x_lower_bound, x_upper_bound, x_values_length+1)\n",
    "\n",
    "print(compare_CDFs(x_cdf_dict_H0_XT, x_cdf_dict_H0_Xgen))\n",
    "print(compare_CDFs(x_cdf_dict_H1_XT, x_cdf_dict_H1_Xgen))\n",
    "\n"
   ]
  },
  {
   "cell_type": "code",
   "execution_count": 25,
   "id": "7ce72f5e",
   "metadata": {},
   "outputs": [],
   "source": [
    "def generate_aligned_cdf_dict(x_cdf_dict, plot_x_range):\n",
    "    aligned_cdf_dict = {}\n",
    "    aligned_cdf_values = []\n",
    "    for x_value in plot_x_range:\n",
    "        cdf_value_temp = cdf_value(x_value, x_cdf_dict)\n",
    "        aligned_cdf_dict[x_value] = cdf_value_temp\n",
    "        aligned_cdf_values.append(cdf_value_temp)\n",
    "    \n",
    "    return aligned_cdf_dict, np.array(aligned_cdf_values)\n",
    "    "
   ]
  },
  {
   "cell_type": "code",
   "execution_count": 26,
   "id": "63b4ed9b",
   "metadata": {},
   "outputs": [
    {
     "name": "stdout",
     "output_type": "stream",
     "text": [
      "(1001,)\n",
      "(1001,)\n"
     ]
    },
    {
     "data": {
      "text/plain": [
       "[<matplotlib.lines.Line2D at 0x2b117da10>]"
      ]
     },
     "execution_count": 26,
     "metadata": {},
     "output_type": "execute_result"
    },
    {
     "data": {
      "image/png": "[encoded data removed]",
      "text/plain": [
       "<Figure size 640x480 with 1 Axes>"
      ]
     },
     "metadata": {},
     "output_type": "display_data"
    }
   ],
   "source": [
    "x_lower_bound = 50\n",
    "x_upper_bound = 150\n",
    "x_values_length = 1000\n",
    "\n",
    "plot_x_range = np.linspace(x_lower_bound, x_upper_bound, x_values_length+1)\n",
    "_, x_cdf_values_H0_XT_aligned = generate_aligned_cdf_dict(x_cdf_dict_H0_XT, plot_x_range)\n",
    "_, x_cdf_values_H0_Xgen_aligned = generate_aligned_cdf_dict(x_cdf_dict_H0_Xgen, plot_x_range)\n",
    "\n",
    "# print(x_cdf_dict_H0_Xgen_aligned)\n",
    "print(x_cdf_values_H0_XT_aligned.shape)\n",
    "print(plot_x_range.shape)\n",
    "\n",
    "\n",
    "plt.plot(plot_x_range, x_cdf_values_H0_XT_aligned)\n",
    "plt.plot(plot_x_range, x_cdf_values_H0_Xgen_aligned)"
   ]
  },
  {
   "cell_type": "code",
   "execution_count": 27,
   "id": "c59cdeab",
   "metadata": {},
   "outputs": [
    {
     "name": "stdout",
     "output_type": "stream",
     "text": [
      "(1001,)\n",
      "(1001,)\n"
     ]
    },
    {
     "data": {
      "text/plain": [
       "[<matplotlib.lines.Line2D at 0x2b10f15d0>]"
      ]
     },
     "execution_count": 27,
     "metadata": {},
     "output_type": "execute_result"
    },
    {
     "data": {
      "image/png": "[encoded data removed]",
      "text/plain": [
       "<Figure size 640x480 with 1 Axes>"
      ]
     },
     "metadata": {},
     "output_type": "display_data"
    }
   ],
   "source": [
    "x_lower_bound = 50\n",
    "x_upper_bound = 150\n",
    "x_values_length = 1000\n",
    "\n",
    "plot_x_range = np.linspace(x_lower_bound, x_upper_bound, x_values_length+1)\n",
    "_, x_cdf_values_H1_XT_aligned = generate_aligned_cdf_dict(x_cdf_dict_H1_XT, plot_x_range)\n",
    "_, x_cdf_values_H1_Xgen_aligned = generate_aligned_cdf_dict(x_cdf_dict_H1_Xgen, plot_x_range)\n",
    "\n",
    "# print(x_cdf_dict_H0_Xgen_aligned)\n",
    "print(x_cdf_values_H1_XT_aligned.shape)\n",
    "print(plot_x_range.shape)\n",
    "\n",
    "\n",
    "plt.plot(plot_x_range, x_cdf_values_H1_XT_aligned)\n",
    "plt.plot(plot_x_range, x_cdf_values_H1_Xgen_aligned)"
   ]
  },
  {
   "cell_type": "markdown",
   "id": "a8cb1927",
   "metadata": {},
   "source": [
    "## a) Grouping by each accident time:"
   ]
  },
  {
   "cell_type": "code",
   "execution_count": 30,
   "id": "9c68777b",
   "metadata": {},
   "outputs": [],
   "source": [
    "T_acc_vec = np.ones(N) * T\n",
    "for i in range(N):\n",
    "    if np.any(acc_realized_H1[i, :] == 1):\n",
    "        T_acc_vec[i] = min([t for t in range(T) if acc_realized_H1[i, t] == 1])\n",
    "\n",
    "T_acc_set_sorted = np.sort(np.array(list(set(T_acc_vec))))\n",
    "\n",
    "\n",
    "acc_times_dict = {}\n",
    "# To edit, using T_acc_set_sorted.shape[0] and T (time = T * 10 mins).\n",
    "acc_times_sampling_rate_by_hour = 1\n",
    "acc_times_sampling_rate = int(T_acc_set_sorted.shape[0]*acc_times_sampling_rate_by_hour*6 / T) + 1\n",
    "T_acc_set_sorted_sampled = [T_acc_set_sorted[j] for j in range(T_acc_set_sorted.shape[0]) if j % acc_times_sampling_rate == 0]\n",
    "\n",
    "acc_time_previous = 0\n",
    "for acc_time in T_acc_set_sorted_sampled:\n",
    "    days_list = [i for i in range(N) if T_acc_vec[i] > acc_time_previous and T_acc_vec[i] <= acc_time]\n",
    "    acc_times_dict[acc_time] = days_list\n",
    "    acc_time_previous = acc_time\n",
    "\n",
    "# acc_times_dict.keys()\n",
    "# acc_times_dict\n",
    "# T_acc_set_sorted_sampled\n",
    "\n",
    "# T_acc_set_sorted.shape[0]\n",
    "\n"
   ]
  },
  {
   "cell_type": "code",
   "execution_count": 31,
   "id": "f5b4ae07",
   "metadata": {},
   "outputs": [
    {
     "name": "stdout",
     "output_type": "stream",
     "text": [
      "T_acc_set_sorted.shape[0]: 99\n",
      "T: 108\n",
      "acc_times_sampling_rate: 6\n",
      "len(T_acc_set_sorted_sampled): 17\n"
     ]
    }
   ],
   "source": [
    "print(\"T_acc_set_sorted.shape[0]:\", T_acc_set_sorted.shape[0])\n",
    "print(\"T:\", T)\n",
    "print(\"acc_times_sampling_rate:\", acc_times_sampling_rate)\n",
    "print(\"len(T_acc_set_sorted_sampled):\", len(T_acc_set_sorted_sampled))"
   ]
  },
  {
   "cell_type": "code",
   "execution_count": 32,
   "id": "7e585236",
   "metadata": {
    "scrolled": true
   },
   "outputs": [
    {
     "name": "stdout",
     "output_type": "stream",
     "text": [
      "acc_time_id: 0\n",
      "len(sample_acc): 461\n",
      "len(sample_no_acc): 2194\n",
      "KstestResult(statistic=0.18118730436192573, pvalue=2.0672744257917702e-11, statistic_location=101.48533936269399, statistic_sign=-1)\n",
      "\n",
      "acc_time_id: 1\n",
      "len(sample_acc): 2194\n",
      "len(sample_no_acc): 1405\n",
      "KstestResult(statistic=0.5813039119955102, pvalue=8.531680566096588e-269, statistic_location=109.0042050842619, statistic_sign=-1)\n",
      "\n",
      "acc_time_id: 2\n",
      "len(sample_acc): 1405\n",
      "len(sample_no_acc): 1017\n",
      "KstestResult(statistic=0.5650167788170497, pvalue=2.5267524292110355e-174, statistic_location=108.92080138951206, statistic_sign=-1)\n",
      "\n",
      "acc_time_id: 3\n",
      "len(sample_acc): 1017\n",
      "len(sample_no_acc): 718\n",
      "KstestResult(statistic=0.6034269781404151, pvalue=2.4304438268585178e-143, statistic_location=108.83126268604823, statistic_sign=-1)\n",
      "\n",
      "acc_time_id: 4\n",
      "len(sample_acc): 718\n",
      "len(sample_no_acc): 493\n",
      "KstestResult(statistic=0.5706549068575658, pvalue=1.6276624927398274e-88, statistic_location=105.54534346201768, statistic_sign=-1)\n",
      "\n",
      "acc_time_id: 5\n",
      "len(sample_acc): 493\n",
      "len(sample_no_acc): 310\n",
      "KstestResult(statistic=0.6470849964012301, pvalue=8.322540821149883e-76, statistic_location=108.83525417668616, statistic_sign=-1)\n",
      "\n",
      "acc_time_id: 6\n",
      "len(sample_acc): 310\n",
      "len(sample_no_acc): 220\n",
      "KstestResult(statistic=0.6382697947214077, pvalue=6.933807002191806e-50, statistic_location=108.54734708577737, statistic_sign=-1)\n",
      "\n",
      "acc_time_id: 7\n",
      "len(sample_acc): 220\n",
      "len(sample_no_acc): 156\n",
      "KstestResult(statistic=0.6046620046620047, pvalue=1.1271755863482145e-31, statistic_location=107.63023922471919, statistic_sign=-1)\n",
      "\n",
      "acc_time_id: 8\n",
      "len(sample_acc): 156\n",
      "len(sample_no_acc): 119\n",
      "KstestResult(statistic=0.5894742512389571, pvalue=2.393729161138686e-22, statistic_location=108.67996334431292, statistic_sign=-1)\n",
      "\n",
      "acc_time_id: 9\n",
      "len(sample_acc): 119\n",
      "len(sample_no_acc): 63\n",
      "KstestResult(statistic=0.6704014939309056, pvalue=3.636966220438769e-18, statistic_location=107.06898280870982, statistic_sign=-1)\n",
      "\n",
      "acc_time_id: 10\n",
      "len(sample_acc): 63\n",
      "len(sample_no_acc): 47\n",
      "KstestResult(statistic=0.5761567038162783, pvalue=7.038173901161241e-09, statistic_location=106.40001591300148, statistic_sign=-1)\n",
      "\n",
      "acc_time_id: 11\n",
      "len(sample_acc): 47\n",
      "len(sample_no_acc): 39\n",
      "KstestResult(statistic=0.6846699399890889, pvalue=4.287656403642828e-10, statistic_location=106.95395267024352, statistic_sign=-1)\n",
      "\n",
      "acc_time_id: 12\n",
      "len(sample_acc): 39\n",
      "len(sample_no_acc): 22\n",
      "KstestResult(statistic=0.7296037296037297, pvalue=8.8186049789785e-08, statistic_location=107.83453016903178, statistic_sign=-1)\n",
      "\n",
      "acc_time_id: 13\n",
      "len(sample_acc): 22\n",
      "len(sample_no_acc): 11\n",
      "KstestResult(statistic=0.7272727272727273, pvalue=0.00040409902575593926, statistic_location=109.07224086756955, statistic_sign=-1)\n",
      "\n",
      "acc_time_id: 14\n",
      "len(sample_acc): 11\n",
      "len(sample_no_acc): 9\n",
      "KstestResult(statistic=0.6666666666666666, pvalue=0.013574660633484162, statistic_location=104.26997893829389, statistic_sign=-1)\n",
      "\n",
      "acc_time_id: 15\n",
      "len(sample_acc): 9\n",
      "len(sample_no_acc): 9\n",
      "KstestResult(statistic=0.5555555555555556, pvalue=0.12587412587412586, statistic_location=102.11702873686123, statistic_sign=-1)\n",
      "\n"
     ]
    }
   ],
   "source": [
    "for acc_time_id in range(len(acc_times_dict.keys())-1):\n",
    "    acc_time = list(acc_times_dict.keys())[acc_time_id]\n",
    "    sample_acc = [x_array_H1[i, int(acc_time) - 1] for i in [*acc_times_dict.values()][acc_time_id]]\n",
    "    sample_no_acc = [x_array_H1[i, int(acc_time) - 1] for i in [*acc_times_dict.values()][acc_time_id + 1]]\n",
    "    \n",
    "    print(\"acc_time_id:\", acc_time_id)\n",
    "    print(\"len(sample_acc):\", len(sample_acc))\n",
    "    print(\"len(sample_no_acc):\", len(sample_no_acc))\n",
    "#     print(sp.stats.kstest(sample_acc, sample_no_acc))\n",
    "    print(sp.stats.ks_2samp(sample_acc, sample_no_acc))\n",
    "    print()\n",
    "\n",
    "# print(sample_acc)\n",
    "# print(\"\\n\")\n",
    "# print(sample_no_acc)\n"
   ]
  },
  {
   "cell_type": "code",
   "execution_count": 34,
   "id": "2a3979f2",
   "metadata": {
    "scrolled": true
   },
   "outputs": [
    {
     "name": "stdout",
     "output_type": "stream",
     "text": [
      "acc_time_id: 0\n",
      "len(sample_acc): 461\n",
      "len(sample_no_acc): 2194\n",
      "KstestResult(statistic=0.051144217022564005, pvalue=0.2615288989688387, statistic_location=101.97448533787102, statistic_sign=1)\n",
      "\n",
      "acc_time_id: 1\n",
      "len(sample_acc): 2194\n",
      "len(sample_no_acc): 1405\n",
      "KstestResult(statistic=0.018877430196232364, pvalue=0.9128171919013792, statistic_location=104.10165809143737, statistic_sign=1)\n",
      "\n",
      "acc_time_id: 2\n",
      "len(sample_acc): 1405\n",
      "len(sample_no_acc): 1017\n",
      "KstestResult(statistic=0.030885620606276924, pvalue=0.612209602338376, statistic_location=100.95471005839516, statistic_sign=1)\n",
      "\n",
      "acc_time_id: 3\n",
      "len(sample_acc): 1017\n",
      "len(sample_no_acc): 718\n",
      "KstestResult(statistic=0.0386288252903975, pvalue=0.5396868776418728, statistic_location=111.12553172777505, statistic_sign=-1)\n",
      "\n",
      "acc_time_id: 4\n",
      "len(sample_acc): 718\n",
      "len(sample_no_acc): 493\n",
      "KstestResult(statistic=0.04460214592032183, pvalue=0.5855998837111771, statistic_location=101.03796358997965, statistic_sign=1)\n",
      "\n",
      "acc_time_id: 5\n",
      "len(sample_acc): 493\n",
      "len(sample_no_acc): 310\n",
      "KstestResult(statistic=0.05048092651966237, pvalue=0.692185000001253, statistic_location=99.24963368605124, statistic_sign=-1)\n",
      "\n",
      "acc_time_id: 6\n",
      "len(sample_acc): 310\n",
      "len(sample_no_acc): 220\n",
      "KstestResult(statistic=0.068475073313783, pvalue=0.5534265779875899, statistic_location=109.25731136216598, statistic_sign=1)\n",
      "\n",
      "acc_time_id: 7\n",
      "len(sample_acc): 220\n",
      "len(sample_no_acc): 156\n",
      "KstestResult(statistic=0.05675990675990676, pvalue=0.9091343381533916, statistic_location=93.60854886313678, statistic_sign=-1)\n",
      "\n",
      "acc_time_id: 8\n",
      "len(sample_acc): 156\n",
      "len(sample_no_acc): 119\n",
      "KstestResult(statistic=0.06582633053221289, pvalue=0.9064814087607922, statistic_location=116.7483816053114, statistic_sign=-1)\n",
      "\n",
      "acc_time_id: 9\n",
      "len(sample_acc): 119\n",
      "len(sample_no_acc): 63\n",
      "KstestResult(statistic=0.19047619047619047, pvalue=0.08660585979228502, statistic_location=104.16880759364899, statistic_sign=-1)\n",
      "\n",
      "acc_time_id: 10\n",
      "len(sample_acc): 63\n",
      "len(sample_no_acc): 47\n",
      "KstestResult(statistic=0.09962850388382304, pvalue=0.9173703928682023, statistic_location=96.28744935726638, statistic_sign=1)\n",
      "\n",
      "acc_time_id: 11\n",
      "len(sample_acc): 47\n",
      "len(sample_no_acc): 39\n",
      "KstestResult(statistic=0.24986361156573922, pvalue=0.1123379440689262, statistic_location=103.64203023823576, statistic_sign=-1)\n",
      "\n",
      "acc_time_id: 12\n",
      "len(sample_acc): 39\n",
      "len(sample_no_acc): 22\n",
      "KstestResult(statistic=0.17832167832167833, pvalue=0.6827807383325153, statistic_location=106.73732665192237, statistic_sign=1)\n",
      "\n",
      "acc_time_id: 13\n",
      "len(sample_acc): 22\n",
      "len(sample_no_acc): 11\n",
      "KstestResult(statistic=0.36363636363636365, pvalue=0.27095817269198325, statistic_location=110.22856397768554, statistic_sign=1)\n",
      "\n",
      "acc_time_id: 14\n",
      "len(sample_acc): 11\n",
      "len(sample_no_acc): 9\n",
      "KstestResult(statistic=0.36363636363636365, pvalue=0.4127173136461062, statistic_location=112.47179458429385, statistic_sign=-1)\n",
      "\n",
      "acc_time_id: 15\n",
      "len(sample_acc): 9\n",
      "len(sample_no_acc): 9\n",
      "KstestResult(statistic=0.2222222222222222, pvalue=0.9894693541752365, statistic_location=97.31346645023437, statistic_sign=1)\n",
      "\n"
     ]
    }
   ],
   "source": [
    "kstest_result_H0 = np.zeros((len(acc_times_dict.keys())-1, 4))\n",
    "\n",
    "for acc_time_id in range(len(acc_times_dict.keys())-1):\n",
    "    acc_time = list(acc_times_dict.keys())[acc_time_id]\n",
    "    sample_acc = [x_array_H0[i, int(acc_time) - 1] for i in [*acc_times_dict.values()][acc_time_id]]\n",
    "    sample_no_acc = [x_array_H0[i, int(acc_time) - 1] for i in [*acc_times_dict.values()][acc_time_id + 1]]\n",
    "    \n",
    "    print(\"acc_time_id:\", acc_time_id)\n",
    "    print(\"len(sample_acc):\", len(sample_acc))\n",
    "    print(\"len(sample_no_acc):\", len(sample_no_acc))\n",
    "#     print(sp.stats.kstest(sample_acc, sample_no_acc))\n",
    "    print(sp.stats.ks_2samp(sample_acc, sample_no_acc))\n",
    "    kstest_result_H0[acc_time_id, 0:2] = np.array(list(sp.stats.ks_2samp(sample_acc, sample_no_acc)))\n",
    "    kstest_result_H0[acc_time_id, 2:4] = np.array([len(sample_acc), len(sample_no_acc)])\n",
    "    print()\n"
   ]
  },
  {
   "cell_type": "code",
   "execution_count": 35,
   "id": "ddfd7b4e",
   "metadata": {},
   "outputs": [
    {
     "name": "stdout",
     "output_type": "stream",
     "text": [
      "[[5.11442170e-02 2.61528899e-01 4.61000000e+02 2.19400000e+03]\n",
      " [1.88774302e-02 9.12817192e-01 2.19400000e+03 1.40500000e+03]\n",
      " [3.08856206e-02 6.12209602e-01 1.40500000e+03 1.01700000e+03]\n",
      " [3.86288253e-02 5.39686878e-01 1.01700000e+03 7.18000000e+02]\n",
      " [4.46021459e-02 5.85599884e-01 7.18000000e+02 4.93000000e+02]\n",
      " [5.04809265e-02 6.92185000e-01 4.93000000e+02 3.10000000e+02]\n",
      " [6.84750733e-02 5.53426578e-01 3.10000000e+02 2.20000000e+02]\n",
      " [5.67599068e-02 9.09134338e-01 2.20000000e+02 1.56000000e+02]\n",
      " [6.58263305e-02 9.06481409e-01 1.56000000e+02 1.19000000e+02]\n",
      " [1.90476190e-01 8.66058598e-02 1.19000000e+02 6.30000000e+01]\n",
      " [9.96285039e-02 9.17370393e-01 6.30000000e+01 4.70000000e+01]\n",
      " [2.49863612e-01 1.12337944e-01 4.70000000e+01 3.90000000e+01]\n",
      " [1.78321678e-01 6.82780738e-01 3.90000000e+01 2.20000000e+01]\n",
      " [3.63636364e-01 2.70958173e-01 2.20000000e+01 1.10000000e+01]\n",
      " [3.63636364e-01 4.12717314e-01 1.10000000e+01 9.00000000e+00]\n",
      " [2.22222222e-01 9.89469354e-01 9.00000000e+00 9.00000000e+00]]\n",
      "\n",
      "[[5.16728179e-02 2.61528899e-01 4.61000000e+02 2.19400000e+03]\n",
      " [2.13982896e-02 9.12817192e-01 2.19400000e+03 1.40500000e+03]\n",
      " [3.16750778e-02 6.12209602e-01 1.40500000e+03 1.01700000e+03]\n",
      " [3.94487573e-02 5.39686878e-01 1.01700000e+03 7.18000000e+02]\n",
      " [4.58371443e-02 5.85599884e-01 7.18000000e+02 4.93000000e+02]\n",
      " [5.27966332e-02 6.92185000e-01 4.93000000e+02 3.10000000e+02]\n",
      " [7.06551808e-02 5.53426578e-01 3.10000000e+02 2.20000000e+02]\n",
      " [6.57175303e-02 9.09134338e-01 2.20000000e+02 1.56000000e+02]\n",
      " [7.65587645e-02 9.06481409e-01 1.56000000e+02 1.19000000e+02]\n",
      " [1.95213390e-01 8.66058598e-02 1.19000000e+02 6.30000000e+01]\n",
      " [1.20320569e-01 9.17370393e-01 6.30000000e+01 4.70000000e+01]\n",
      " [2.59898217e-01 1.12337944e-01 4.70000000e+01 3.90000000e+01]\n",
      " [1.95459010e-01 6.82780738e-01 3.90000000e+01 2.20000000e+01]\n",
      " [3.69176417e-01 2.70958173e-01 2.20000000e+01 1.10000000e+01]\n",
      " [3.99259361e-01 4.12717314e-01 1.10000000e+01 9.00000000e+00]\n",
      " [2.79629450e-01 9.89469354e-01 9.00000000e+00 9.00000000e+00]]\n"
     ]
    }
   ],
   "source": [
    "def kstest_manual_pvalue_to_statistic(pvalues, ms, ns):\n",
    "    return np.sqrt(-np.log(pvalues/2) * 0.5 *(1/ms + 1/ns))\n",
    "\n",
    "# kstest_result_H0\n",
    "print(kstest_result_H0)\n",
    "print()\n",
    "\n",
    "kstest_result_H0_manual = np.copy(kstest_result_H0)\n",
    "kstest_result_H0_manual[:, 0] = kstest_manual_pvalue_to_statistic(kstest_result_H0_manual[:, 1], kstest_result_H0_manual[:, 2], kstest_result_H0_manual[:, 3])\n",
    "print(kstest_result_H0_manual)"
   ]
  },
  {
   "cell_type": "code",
   "execution_count": null,
   "id": "a6af175d",
   "metadata": {},
   "outputs": [],
   "source": []
  },
  {
   "cell_type": "markdown",
   "id": "7d20eb71",
   "metadata": {},
   "source": [
    "## b) Aggregate across accident times:"
   ]
  },
  {
   "cell_type": "markdown",
   "id": "d1ebde6e",
   "metadata": {},
   "source": [
    "# Plot Results:"
   ]
  },
  {
   "cell_type": "code",
   "execution_count": 36,
   "id": "1a19f1a8",
   "metadata": {},
   "outputs": [],
   "source": [
    "# def cdf_from_samples(sample):\n",
    "    \n",
    "    "
   ]
  },
  {
   "cell_type": "code",
   "execution_count": 37,
   "id": "f68cec12",
   "metadata": {},
   "outputs": [],
   "source": [
    "# # Test:\n",
    "\n",
    "# sample = np.random.randn(1000)\n",
    "# ecdf = ECDF(sample)\n",
    "\n",
    "# print('P(x<-20): %.3f' % ecdf(-20))\n",
    "# print('P(x<0): %.3f' % ecdf(0))\n",
    "# print('P(x<20): %.3f' % ecdf(20))\n",
    "\n",
    "# cdf_data_test = ecdf(np.linspace(-10, 10, num=1000))\n",
    "# plt.plot(np.linspace(-10, 10, num=1000), cdf_data_test)\n"
   ]
  },
  {
   "cell_type": "code",
   "execution_count": 38,
   "id": "dc0bc7d7",
   "metadata": {},
   "outputs": [
    {
     "name": "stdout",
     "output_type": "stream",
     "text": [
      "acc_time_id: 2\n",
      "len(sample_acc): 1405\n",
      "len(sample_no_acc): 1017\n",
      "KstestResult(statistic=0.5650167788170497, pvalue=2.5267524292110355e-174, statistic_location=108.92080138951206, statistic_sign=-1)\n",
      "\n"
     ]
    },
    {
     "data": {
      "text/plain": [
       "[<matplotlib.lines.Line2D at 0x2b19fcc90>]"
      ]
     },
     "execution_count": 38,
     "metadata": {},
     "output_type": "execute_result"
    },
    {
     "data": {
      "image/png": "[encoded data removed]",
      "text/plain": [
       "<Figure size 640x480 with 1 Axes>"
      ]
     },
     "metadata": {},
     "output_type": "display_data"
    }
   ],
   "source": [
    "# for acc_time_id in range(len(acc_times_dict.keys())-1):\n",
    "for acc_time_id in [2]:\n",
    "    acc_time = list(acc_times_dict.keys())[acc_time_id]\n",
    "    sample_acc = [x_array_H1[i, int(acc_time) - 1] for i in [*acc_times_dict.values()][acc_time_id]]\n",
    "    sample_no_acc = [x_array_H1[i, int(acc_time) - 1] for i in [*acc_times_dict.values()][acc_time_id + 1]]\n",
    "    \n",
    "    print(\"acc_time_id:\", acc_time_id)\n",
    "    print(\"len(sample_acc):\", len(sample_acc))\n",
    "    print(\"len(sample_no_acc):\", len(sample_no_acc))\n",
    "#     print(sp.stats.kstest(sample_acc, sample_no_acc))\n",
    "    print(sp.stats.ks_2samp(sample_acc, sample_no_acc))\n",
    "    print()\n",
    "\n",
    "\n",
    "ecdf_acc = ECDF(sample_acc)\n",
    "ecdf_no_acc = ECDF(sample_no_acc)\n",
    "\n",
    "plot_x_range = np.linspace(x_eq - 3 * noise_range, x_eq + 3 * noise_range, num = 1000)\n",
    "cdf_no_acc = ecdf_no_acc(plot_x_range)\n",
    "cdf_acc = ecdf_acc(plot_x_range)\n",
    "plt.plot(plot_x_range, cdf_no_acc)\n",
    "plt.plot(plot_x_range, cdf_acc)\n",
    "\n"
   ]
  },
  {
   "cell_type": "code",
   "execution_count": 39,
   "id": "60c17aad",
   "metadata": {},
   "outputs": [
    {
     "name": "stdout",
     "output_type": "stream",
     "text": [
      "acc_time_id: 2\n",
      "len(sample_acc): 1405\n",
      "len(sample_no_acc): 1017\n",
      "KstestResult(statistic=0.030885620606276924, pvalue=0.612209602338376, statistic_location=100.95471005839516, statistic_sign=1)\n",
      "\n"
     ]
    },
    {
     "data": {
      "text/plain": [
       "[<matplotlib.lines.Line2D at 0x2b105a6d0>]"
      ]
     },
     "execution_count": 39,
     "metadata": {},
     "output_type": "execute_result"
    },
    {
     "data": {
      "image/png": "[encoded data removed]",
      "text/plain": [
       "<Figure size 640x480 with 1 Axes>"
      ]
     },
     "metadata": {},
     "output_type": "display_data"
    }
   ],
   "source": [
    "# for acc_time_id in range(len(acc_times_dict.keys())-1):\n",
    "for acc_time_id in [2]:\n",
    "    acc_time = list(acc_times_dict.keys())[acc_time_id]\n",
    "    sample_acc = [x_array_H0[i, int(acc_time) - 1] for i in [*acc_times_dict.values()][acc_time_id]]\n",
    "    sample_no_acc = [x_array_H0[i, int(acc_time) - 1] for i in [*acc_times_dict.values()][acc_time_id + 1]]\n",
    "    \n",
    "    print(\"acc_time_id:\", acc_time_id)\n",
    "    print(\"len(sample_acc):\", len(sample_acc))\n",
    "    print(\"len(sample_no_acc):\", len(sample_no_acc))\n",
    "#     print(sp.stats.kstest(sample_acc, sample_no_acc))\n",
    "    print(sp.stats.ks_2samp(sample_acc, sample_no_acc))\n",
    "    print()\n",
    "\n",
    "\n",
    "ecdf_acc = ECDF(sample_acc)\n",
    "ecdf_no_acc = ECDF(sample_no_acc)\n",
    "\n",
    "plot_x_range = np.linspace(x_eq - 3 * noise_range, x_eq + 3 * noise_range, num=1000)\n",
    "cdf_no_acc = ecdf_no_acc(plot_x_range)\n",
    "cdf_acc = ecdf_acc(plot_x_range)\n",
    "plt.plot(plot_x_range, cdf_no_acc)\n",
    "plt.plot(plot_x_range, cdf_acc)\n",
    "\n"
   ]
  },
  {
   "cell_type": "code",
   "execution_count": 41,
   "id": "c903d4b6",
   "metadata": {},
   "outputs": [
    {
     "name": "stdout",
     "output_type": "stream",
     "text": [
      "[[0 0 0 ... 0 0 0]\n",
      " [0 0 0 ... 0 0 0]\n",
      " [0 0 0 ... 0 0 0]\n",
      " ...\n",
      " [0 0 0 ... 0 0 0]\n",
      " [0 0 0 ... 0 0 0]\n",
      " [0 0 0 ... 0 0 0]]\n",
      "\n",
      "\n",
      "[[0. 0. 0. ... 0. 0. 0.]\n",
      " [0. 0. 0. ... 0. 0. 0.]\n",
      " [0. 0. 0. ... 0. 0. 0.]\n",
      " ...\n",
      " [0. 0. 0. ... 0. 0. 0.]\n",
      " [0. 0. 0. ... 0. 0. 0.]\n",
      " [0. 0. 0. ... 0. 0. 0.]]\n"
     ]
    }
   ],
   "source": [
    "print(acc_vec)\n",
    "print(\"\\n\")\n",
    "print(acc_realized_H1)"
   ]
  }
 ],
 "metadata": {
  "kernelspec": {
   "display_name": "Python 3 (ipykernel)",
   "language": "python",
   "name": "python3"
  },
  "language_info": {
   "codemirror_mode": {
    "name": "ipython",
    "version": 3
   },
   "file_extension": ".py",
   "mimetype": "text/x-python",
   "name": "python",
   "nbconvert_exporter": "python",
   "pygments_lexer": "ipython3",
   "version": "3.11.7"
  }
 },
 "nbformat": 4,
 "nbformat_minor": 5
}
